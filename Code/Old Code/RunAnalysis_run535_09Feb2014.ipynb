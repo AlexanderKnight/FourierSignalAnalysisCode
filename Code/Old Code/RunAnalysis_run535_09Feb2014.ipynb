{
 "metadata": {
  "name": ""
 },
 "nbformat": 3,
 "nbformat_minor": 0,
 "worksheets": [
  {
   "cells": [
    {
     "cell_type": "heading",
     "level": 1,
     "metadata": {},
     "source": [
      "First test of Optical Lever system"
     ]
    },
    {
     "cell_type": "heading",
     "level": 3,
     "metadata": {},
     "source": [
      "Sunday-09-Feb-2014"
     ]
    },
    {
     "cell_type": "markdown",
     "metadata": {},
     "source": [
      "Quick run; 600 seconds long.\n",
      "\n",
      "Before proceeding, here is a smoothing function that I will use to within this notebook: "
     ]
    },
    {
     "cell_type": "code",
     "collapsed": false,
     "input": [
      "def smooth(x,window_len=11,window='hanning'):\n",
      "    \"\"\"smooth the data using a window with requested size.\n",
      "    \n",
      "    This method is based on the convolution of a scaled window with the signal.\n",
      "    The signal is prepared by introducing reflected copies of the signal \n",
      "    (with the window size) in both ends so that transient parts are minimized\n",
      "    in the begining and end part of the output signal.\n",
      "    \n",
      "    input:\n",
      "        x: the input signal \n",
      "        window_len: the dimension of the smoothing window; should be an odd integer\n",
      "        window: the type of window from 'flat', 'hanning', 'hamming', 'bartlett', 'blackman'\n",
      "            flat window will produce a moving average smoothing.\n",
      "\n",
      "    output:\n",
      "        the smoothed signal\n",
      "        \n",
      "    example:\n",
      "\n",
      "    t=linspace(-2,2,0.1)\n",
      "    x=sin(t)+randn(len(t))*0.1\n",
      "    y=smooth(x)\n",
      "    \n",
      "    see also: \n",
      "    \n",
      "    numpy.hanning, numpy.hamming, numpy.bartlett, numpy.blackman, numpy.convolve\n",
      "    scipy.signal.lfilter\n",
      " \n",
      "    TODO: the window parameter could be the window itself if an array instead of a string\n",
      "    NOTE: length(output) != length(input), to correct this: return y[(window_len/2-1):-(window_len/2)] instead of just y.\n",
      "    \"\"\"\n",
      "\n",
      "    if x.ndim != 1:\n",
      "        raise ValueError, \"smooth only accepts 1 dimension arrays.\"\n",
      "\n",
      "    if x.size < window_len:\n",
      "        raise ValueError, \"Input vector needs to be bigger than window size.\"\n",
      "\n",
      "\n",
      "    if window_len<3:\n",
      "        return x\n",
      "\n",
      "\n",
      "    if not window in ['flat', 'hanning', 'hamming', 'bartlett', 'blackman']:\n",
      "        raise ValueError, \"Window is on of 'flat', 'hanning', 'hamming', 'bartlett', 'blackman'\"\n",
      "\n",
      "\n",
      "    s=numpy.r_[x[window_len-1:0:-1],x,x[-1:-window_len:-1]]\n",
      "    #print(len(s))\n",
      "    if window == 'flat': #moving average\n",
      "        w=numpy.ones(window_len,'d')\n",
      "    else:\n",
      "        w=eval('numpy.'+window+'(window_len)')\n",
      "\n",
      "    y=numpy.convolve(w/w.sum(),s,mode='valid')\n",
      "    return y\n"
     ],
     "language": "python",
     "metadata": {},
     "outputs": [],
     "prompt_number": 1
    },
    {
     "cell_type": "markdown",
     "metadata": {},
     "source": [
      "Here is the data from a 300 second run; shown are the L-R and T-B signals:"
     ]
    },
    {
     "cell_type": "code",
     "collapsed": false,
     "input": [
      "cd Run535mm_09Feb2014"
     ],
     "language": "python",
     "metadata": {},
     "outputs": [
      {
       "output_type": "stream",
       "stream": "stdout",
       "text": [
        "/home/pauln/Dropbox/2013_sabbatical/_Research/LabjackDevelopment/Run535mm_09Feb2014\n"
       ]
      }
     ],
     "prompt_number": 7
    },
    {
     "cell_type": "code",
     "collapsed": false,
     "input": [
      "# read in the three data files\n",
      "t   = np.loadtxt('time_run535mm_09Feb2014.txt')\n",
      "LR  = np.loadtxt('LR_run535mm_09Feb2014.txt')\n",
      "sumSignal = np.loadtxt('sum_run535mm_09Feb2014.txt')\n",
      "LR_Smoothed = smooth(LR, window_len=30, window='hanning')[0:len(t)]\n",
      "#\n",
      "##  From the array of times, create a difference array\n",
      "##  so we can see the variation in the sampling times\n",
      "#\n",
      "print len(t), len(LR), len(sumSignal), len(LR_Smoothed)\n",
      "n=len(t)-1\n",
      "dt = []\n",
      "\n",
      "dt[0:n] = 1000*(t[1:n]- t[0:n-1]) # scale time differences to mS\n",
      "np.delete(dt,0)"
     ],
     "language": "python",
     "metadata": {},
     "outputs": [
      {
       "output_type": "stream",
       "stream": "stdout",
       "text": [
        "20446 20446 20446 20446\n"
       ]
      },
      {
       "metadata": {},
       "output_type": "pyout",
       "prompt_number": 8,
       "text": [
        "array([ 29.445,  28.998,  30.51 , ...,  29.044,  30.24 ,  28.843])"
       ]
      }
     ],
     "prompt_number": 8
    },
    {
     "cell_type": "code",
     "collapsed": false,
     "input": [
      "%pylab qt \n",
      "fig = plt.figure(figsize(18,14))\n",
      "plt.rc('text', usetex=True)\n",
      "\n",
      "ax1 = fig.add_subplot(411)\n",
      "ax2 = fig.add_subplot(412)\n",
      "ax3 = fig.add_subplot(413)\n",
      "ax4 = fig.add_subplot(414)\n",
      "\n",
      "numBins = 400\n",
      "ax1.hist(dt,numBins, color = 'green', alpha =0.8)\n",
      "ax1.set_xlim([28,31])\n",
      "ax1.set_ylabel('number', fontsize=18)\n",
      "ax1.set_xlabel(r'\\Delta t\\;\\mathrm{(mS)}', fontsize=16)\n",
      "ax1.tick_params(axis='both', which='major', labelsize=16)\n",
      "\n",
      "ax2.plot(t, LR)\n",
      "ax2.set_ylabel('L-R Signal (Volts)', fontsize=18)\n",
      "#ax2.set_xlabel('time (s)', fontsize = 18)\n",
      "ax2.set_xlim([0,600])\n",
      "ax2.tick_params(axis='both', which='major', labelsize=16)\n",
      "\n",
      "m=len(t)\n",
      "\n",
      "#LR_Deriv = (LR_Smoothed[1:m]- LR_Smoothed[0:m-1])/mean(dt)\n",
      "LR_Deriv = (LR[1:m]- LR[0:m-1])/mean(dt)\n",
      "\n",
      "print len(LR_Deriv), len(t)\n",
      "tt = np.delete(t,0)\n",
      "ax3.plot(tt,LR_Deriv)\n",
      "ax3.set_ylabel('Deriv(L-R)', fontsize=18)\n",
      "ax3.set_xlim([0,600])\n",
      "ax3.tick_params(axis='both', which='major', labelsize=16)\n",
      "\n",
      "ax4.plot(t, sumSignal, color = 'red')\n",
      "ax4.set_ylabel('Sum Signal', fontsize=18)\n",
      "ax4.set_xlabel('time (s)', fontsize=20)\n",
      "ax4.set_xlim([0,600])\n",
      "#ax4.set_ylim([1.08,1.11])\n",
      "#plt.show()\n",
      "ax4.tick_params(axis='both', which='major', labelsize=16)\n",
      "\n",
      "ax1.set_title('files = (time, LRfile, sumSignal) + testrun0568-07Feb2014', fontsize=24)\n",
      "plt.tight_layout()\n",
      "plt.show()\n",
      "#plt.savefig('RunSummary_run535mm_09Feb2014.pdf', dpi=600, \n",
      "#        orientation='landscape', format='pdf',\n",
      "#        transparent=False, bbox_inches=None, pad_inches=0.1,\n",
      "#        frameon=None)"
     ],
     "language": "python",
     "metadata": {},
     "outputs": [
      {
       "output_type": "stream",
       "stream": "stdout",
       "text": [
        "Populating the interactive namespace from numpy and matplotlib\n",
        "20445"
       ]
      },
      {
       "output_type": "stream",
       "stream": "stdout",
       "text": [
        " 20446\n"
       ]
      }
     ],
     "prompt_number": 26
    },
    {
     "cell_type": "code",
     "collapsed": false,
     "input": [
      "fig = plt.figure(figsize(16,8))\n",
      "plt.rc('text', usetex=True)\n",
      "plot(t, LR)\n",
      "ylabel('L-R Signal (Volts)', fontsize=18)\n",
      "xlabel('time (s)', fontsize = 18)\n",
      "xlim([0,600])\n",
      "ylim([-1.2,2.0])\n",
      "\n",
      "a = axes([.15, .72, .4, .15], axisbg='lightGray')\n",
      "hist(dt,numBins, color = 'green', alpha =0.8)\n",
      "title('Time sampling intervals (ms)')\n",
      "xlabel( r'\\Delta t\\;\\mathrm{(mS)}', fontsize=16 )\n",
      "setp(a, xticks=[28,29,30], xlim=[28,31] )"
     ],
     "language": "python",
     "metadata": {},
     "outputs": [
      {
       "metadata": {},
       "output_type": "pyout",
       "prompt_number": 11,
       "text": [
        "[<matplotlib.axis.XTick at 0x3c9f410>,\n",
        " <matplotlib.axis.XTick at 0x31b0650>,\n",
        " <matplotlib.axis.XTick at 0x6826790>,\n",
        " 28,\n",
        " 31]"
       ]
      },
      {
       "metadata": {},
       "output_type": "display_data",
       "png": "[encoded data removed]",
       "text": [
        "<matplotlib.figure.Figure at 0x6113e50>"
       ]
      }
     ],
     "prompt_number": 11
    },
    {
     "cell_type": "code",
     "collapsed": false,
     "input": [
      "fig = plt.figure(figsize(16,8))\n",
      "plt.rc('text', usetex=True)\n",
      "plot(t, LR)\n",
      "ylabel('L-R Signal (Volts)', fontsize=18)\n",
      "xlabel('time (s)', fontsize = 18)\n",
      "xlim([0,600])\n",
      "ylim([-1.2,2.0])\n",
      "#text(175,1.7, r'$f_0 = 5.68$ Hz', fontsize=20)\n",
      "#text(175, 1.4, r'$f_1 = 0.45$ Hz', fontsize=20)\n",
      "\n",
      "\n",
      "a = axes([.17, .72, .4, .15], axisbg='lightGray')\n",
      "plot(t,LR)\n",
      "title('Magnified view')\n",
      "xlabel( r'\\mathrm{time (mS)}', fontsize=20 )\n",
      "a.tick_params(axis='both', which='major', labelsize=16)\n",
      "setp(a, xticks=[81.5,82,82.5], xlim=[81.5,82.5], ylim=[1.05,1.12] )\n",
      "show()"
     ],
     "language": "python",
     "metadata": {},
     "outputs": [
      {
       "metadata": {},
       "output_type": "display_data",
       "png": "[encoded data removed]",
       "text": [
        "<matplotlib.figure.Figure at 0x3935ad0>"
       ]
      }
     ],
     "prompt_number": 19
    },
    {
     "cell_type": "code",
     "collapsed": false,
     "input": [
      "%pylab qt \n",
      "#subsetSum = sumSignal[30/0.03: 35/0.03]\n",
      "sumSignal_smoothed = smooth(sumSignal, window_len=30, window='hanning')\n",
      "len(t), len(sumSignal), len(sumSignal_smoothed)\n",
      "plot(t,sumSignal)\n",
      "plot(t, sumSignal_smoothed[0:len(t)])\n",
      "show()"
     ],
     "language": "python",
     "metadata": {},
     "outputs": [
      {
       "output_type": "stream",
       "stream": "stdout",
       "text": [
        "Populating the interactive namespace from numpy and matplotlib\n"
       ]
      }
     ],
     "prompt_number": 12
    },
    {
     "cell_type": "code",
     "collapsed": false,
     "input": [
      " 1/2.22"
     ],
     "language": "python",
     "metadata": {},
     "outputs": [
      {
       "metadata": {},
       "output_type": "pyout",
       "prompt_number": 5,
       "text": [
        "0.4504504504504504"
       ]
      }
     ],
     "prompt_number": 5
    },
    {
     "cell_type": "code",
     "collapsed": false,
     "input": [
      "zC=[81.786, 172.916, 271.136, 360.448, 458.796, 548.595]\n",
      "hP = [zC[i+1] - zC[i] for i in range(len(zC)-1)]\n",
      "Periods = [zC[i+2] - zC[i] for i in range(len(zC)-2)]\n",
      "print hP\n",
      "print Periods\n"
     ],
     "language": "python",
     "metadata": {},
     "outputs": [
      {
       "output_type": "stream",
       "stream": "stdout",
       "text": [
        "[91.13, 98.22000000000003, 89.31199999999995, 98.34800000000001, 89.79900000000004]\n",
        "[189.35000000000002, 187.53199999999998, 187.65999999999997, 188.14700000000005]\n"
       ]
      }
     ],
     "prompt_number": 31
    },
    {
     "cell_type": "code",
     "collapsed": false,
     "input": [],
     "language": "python",
     "metadata": {},
     "outputs": []
    }
   ],
   "metadata": {}
  }
 ]
}